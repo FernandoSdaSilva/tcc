{
 "cells": [
  {
   "cell_type": "code",
   "execution_count": 28,
   "id": "c28cd82f-1e56-4606-baab-eb5729ebd759",
   "metadata": {},
   "outputs": [],
   "source": [
    "import pandas as pd\n",
    "import numpy as np\n",
    "from matplotlib import pyplot as plt"
   ]
  },
  {
   "cell_type": "code",
   "execution_count": 39,
   "id": "2eb1d4e3-1635-4c59-966a-24fded3a5afb",
   "metadata": {},
   "outputs": [
    {
     "name": "stdout",
     "output_type": "stream",
     "text": [
      "      Operação  Semestre  Abertura  Fechamento  Dias  Retorno total Ticker 1  \\\n",
      "2059         2        48      6393        6407    14       0.028971       XL   \n",
      "2060         1        48      6300        6310    10       0.076906      ABT   \n",
      "2061         2        48      6333        6336     3       0.030730      ABT   \n",
      "2062         3        48      6403        6413    10       0.055153      ABT   \n",
      "2063         1        48      6320        6334    14       0.131276       DE   \n",
      "\n",
      "     Ticker 2    Return       Index  Retorno total - exp      Pair  \n",
      "2059      ROP  0.076396    XL-ROP-2             1.029395    XL-ROP  \n",
      "2060     EBAY  0.103134  ABT-EBAY-1             1.079940  ABT-EBAY  \n",
      "2061     EBAY  0.164525  ABT-EBAY-2             1.031207  ABT-EBAY  \n",
      "2062     EBAY  0.226584  ABT-EBAY-3             1.056702  ABT-EBAY  \n",
      "2063      TSN  0.163602    DE-TSN-1             1.140283    DE-TSN  \n"
     ]
    }
   ],
   "source": [
    "operations = pd.read_csv(\"../cointegration_results/operations_20_pairs.csv\")\n",
    "operations['Pair'] = operations['Index'].str[:-2]\n",
    "print(operations.tail())"
   ]
  },
  {
   "cell_type": "code",
   "execution_count": 40,
   "id": "5e0fb83d-4d24-457c-8f0b-da6b5bcc9c91",
   "metadata": {},
   "outputs": [
    {
     "name": "stdout",
     "output_type": "stream",
     "text": [
      "Número de operações: 2064\n",
      "Positive Returns: 1908 | Negative: 90\n",
      "Highest Return: 0.7673967100872483\n",
      "Lowest Return: -0.0929472443572065\n",
      "Average Return: 0.051412088700015415\n",
      "Average trade lenght: 11.326065891472869\n"
     ]
    }
   ],
   "source": [
    "#print(f\"Converged operations: {sum(operations['Converged'])} | Open operations: {np.shape(operations)[0] - sum(operations['Converged'])}\")\n",
    "print(f\"Número de operações: {np.shape(operations)[0]}\")\n",
    "print(f\"Positive Returns: {sum(operations['Retorno total'] > 0)} | Negative: {sum(operations['Retorno total'] < 0)}\")\n",
    "print(f\"Highest Return: {operations['Retorno total'].max()}\")\n",
    "print(f\"Lowest Return: {operations['Retorno total'].min()}\")\n",
    "print(f\"Average Return: {operations['Retorno total'].mean()}\")\n",
    "print(f\"Average trade lenght: {operations['Dias'].mean()}\")"
   ]
  },
  {
   "cell_type": "code",
   "execution_count": 41,
   "id": "bb9f0667-e931-4fc7-9b4b-4fb6265456b4",
   "metadata": {},
   "outputs": [
    {
     "data": {
      "image/png": "[encoded data removed]",
      "text/plain": [
       "<Figure size 1080x504 with 1 Axes>"
      ]
     },
     "metadata": {
      "needs_background": "light"
     },
     "output_type": "display_data"
    }
   ],
   "source": [
    "# Return Distribution\n",
    "fig = plt.figure(figsize=(15, 7))\n",
    "ax1 = fig.add_subplot(1, 1, 1)\n",
    "operations['Retorno total'].hist(bins=50, ax=ax1)\n",
    "ax1.set_xlabel('Retorno')\n",
    "ax1.set_ylabel('Amostra')\n",
    "ax1.set_title('Distribuição dos Retornos')\n",
    "plt.show()"
   ]
  },
  {
   "cell_type": "code",
   "execution_count": 42,
   "id": "76f49f5f-ef36-444a-a4c1-7cb5e9b5453e",
   "metadata": {},
   "outputs": [
    {
     "data": {
      "text/plain": [
       "<AxesSubplot:>"
      ]
     },
     "execution_count": 42,
     "metadata": {},
     "output_type": "execute_result"
    },
    {
     "data": {
      "image/png": "[encoded data removed]",
      "text/plain": [
       "<Figure size 432x288 with 1 Axes>"
      ]
     },
     "metadata": {
      "needs_background": "light"
     },
     "output_type": "display_data"
    }
   ],
   "source": [
    "weighted_returns = operations['Retorno total'] / 35\n",
    "np.cumprod(1+weighted_returns).plot()"
   ]
  },
  {
   "cell_type": "code",
   "execution_count": 43,
   "id": "71ffea3c-63e8-430b-be27-5c1c127d56ed",
   "metadata": {},
   "outputs": [],
   "source": [
    "# Ações com maior participação\n",
    "count_s1 = operations.groupby(\"Ticker 1\").count()\n",
    "count_s2 = operations.groupby(\"Ticker 2\").count()\n",
    "\n",
    "stock_count = {}\n",
    "\n",
    "for row in range(0,np.shape(count_s1)[0]):\n",
    "    #print(f\"Stock {count_s1.index[row]} - {count_s1['Semester'][row]}\")\n",
    "    stock_count[count_s1.index[row]] = count_s1['Semestre'][row]\n",
    "\n",
    "for row in range(0,np.shape(count_s2)[0]):\n",
    "    if count_s2.index[row] in stock_count:\n",
    "        stock_count[count_s2.index[row]] += count_s2['Semestre'][row]\n",
    "    else:\n",
    "        stock_count[count_s2.index[row]] = count_s2['Semestre'][row]\n",
    "\n",
    "stock_count_df = pd.DataFrame(stock_count.items()) \n",
    "stock_count_df = stock_count_df.sort_values(1)\n",
    "stock_count_df.to_csv(\"../cointegration_results/stock_count.csv\")"
   ]
  },
  {
   "cell_type": "code",
   "execution_count": 44,
   "id": "8ee17e03-9bd8-457a-bfbb-40fd12e78f69",
   "metadata": {},
   "outputs": [
    {
     "name": "stdout",
     "output_type": "stream",
     "text": [
      "                   Operação  Semestre  Abertura  Fechamento  Dias  \\\n",
      "Pair                                                                \n",
      "0111145D-1280712D         3        48      6703        6739    36   \n",
      "0111145D-AAMRQ            3        40      5653        5695    42   \n",
      "0111145D-TMO              3        48      6654        6680    26   \n",
      "0202445Q-BCO             15         5      2136        2177    41   \n",
      "0544749D-TOY              3        42      5860        5895    35   \n",
      "...                     ...       ...       ...         ...   ...   \n",
      "XRX-MAT                   1        17      2447        2466    19   \n",
      "XRX-MCK                   1        30      4047        4070    23   \n",
      "XRX-WOR                   3         4      1072        1126    54   \n",
      "ZION-GME                  1        39      5193        5217    24   \n",
      "ZION-ISRG                 6       138     18323       18344    21   \n",
      "\n",
      "                   Retorno total    Return  Retorno total - exp  \n",
      "Pair                                                             \n",
      "0111145D-1280712D       0.150043  0.322445             2.155816  \n",
      "0111145D-AAMRQ          0.378379  0.627699             2.416660  \n",
      "0111145D-TMO            0.099876  0.228758             2.102627  \n",
      "0202445Q-BCO            0.341550  1.937733             5.354632  \n",
      "0544749D-TOY            0.141741  0.371892             2.147318  \n",
      "...                          ...       ...                  ...  \n",
      "XRX-MAT                 0.066708  0.256893             1.068983  \n",
      "XRX-MCK                 0.062268  0.083018             1.064248  \n",
      "XRX-WOR                 0.181528  0.336347             2.190384  \n",
      "ZION-GME                0.083910  0.136177             1.087531  \n",
      "ZION-ISRG               0.072701  0.489148             3.074010  \n",
      "\n",
      "[888 rows x 8 columns]\n",
      "Número de pares: 888\n",
      "Retorno médio por par: 11.9498%\n"
     ]
    }
   ],
   "source": [
    "# Retorno por par\n",
    "operations_by_pair = operations.groupby(\"Pair\").sum(\"Retorno total\")\n",
    "print(operations_by_pair)\n",
    "print(f\"Número de pares: {np.shape(operations_by_pair)[0]}\")\n",
    "print(f\"Retorno médio por par: {round(100*operations_by_pair['Retorno total'].mean(),4)}%\")"
   ]
  },
  {
   "cell_type": "code",
   "execution_count": 46,
   "id": "d808ab2f-854d-41d7-a9b9-05abf3acf38f",
   "metadata": {},
   "outputs": [],
   "source": [
    "# Ações com maior participação\n",
    "stock_count = {}\n",
    "\n",
    "for pair in operations_by_pair.index:\n",
    "    stocks = pair.split(\"-\")\n",
    "    for stock in stocks:   \n",
    "        if stock in stock_count:\n",
    "            stock_count[stock] += 1\n",
    "        else:\n",
    "            stock_count[stock] = 1\n",
    "stock_count_df = pd.DataFrame(stock_count.items()) \n",
    "stock_count_df = stock_count_df.sort_values(1)\n",
    "stock_count_df.to_csv(\"../cointegration_results/stock_count_20_pairs.csv\")"
   ]
  },
  {
   "cell_type": "code",
   "execution_count": null,
   "id": "0e845340-f9bf-4fa9-a04d-3bc270e84de1",
   "metadata": {},
   "outputs": [],
   "source": []
  }
 ],
 "metadata": {
  "kernelspec": {
   "display_name": "Python 3 (ipykernel)",
   "language": "python",
   "name": "python3"
  },
  "language_info": {
   "codemirror_mode": {
    "name": "ipython",
    "version": 3
   },
   "file_extension": ".py",
   "mimetype": "text/x-python",
   "name": "python",
   "nbconvert_exporter": "python",
   "pygments_lexer": "ipython3",
   "version": "3.8.7"
  }
 },
 "nbformat": 4,
 "nbformat_minor": 5
}
