{
 "cells": [
  {
   "cell_type": "code",
   "execution_count": 1,
   "id": "a7adc0bd-03f1-4662-aa1a-2e514033047c",
   "metadata": {},
   "outputs": [
    {
     "name": "stdout",
     "output_type": "stream",
     "text": [
      "[*********************100%***********************]  503 of 503 completed\n",
      "\n",
      "3 Failed downloads:\n",
      "- BF.B: No data found for this date range, symbol may be delisted\n",
      "- BRK.B: No data found, symbol may be delisted\n",
      "- DTE: No data found for this date range, symbol may be delisted\n",
      "             Adj Close                                                         \\\n",
      "                     A    AAL         AAP        AAPL        ABBV         ABC   \n",
      "Date                                                                            \n",
      "1999-12-31         NaN    NaN         NaN         NaN         NaN         NaN   \n",
      "2000-01-03   44.066883    NaN         NaN    0.851942         NaN    2.998109   \n",
      "2000-01-04   40.700668    NaN         NaN    0.780115         NaN    2.793420   \n",
      "2000-01-05   38.175991    NaN         NaN    0.791530         NaN    3.010150   \n",
      "2000-01-06   36.722412    NaN         NaN    0.723033         NaN    3.238921   \n",
      "...                ...    ...         ...         ...         ...         ...   \n",
      "2022-12-06  151.350006  14.33  145.529999  142.910004  163.720001  169.320007   \n",
      "2022-12-07  153.729996  13.55  146.649994  140.940002  165.399994  170.289993   \n",
      "2022-12-08  156.279999  13.60  146.589996  142.649994  165.990005  170.460007   \n",
      "2022-12-09  152.949997  13.53  145.899994  142.160004  163.059998  165.330002   \n",
      "2022-12-12  155.330002  14.20  145.929993  144.490005  165.320007  167.199997   \n",
      "\n",
      "                                                           ...     Volume  \\\n",
      "                  ABMD         ABT       ACGL         ACN  ...       WYNN   \n",
      "Date                                                       ...              \n",
      "1999-12-31         NaN         NaN        NaN         NaN  ...        NaN   \n",
      "2000-01-03   18.250000    9.262779   1.277778         NaN  ...        NaN   \n",
      "2000-01-04   17.812500    8.998123   1.270833         NaN  ...        NaN   \n",
      "2000-01-05   18.000000    8.981586   1.388889         NaN  ...        NaN   \n",
      "2000-01-06   18.031250    9.295856   1.375000         NaN  ...        NaN   \n",
      "...                ...         ...        ...         ...  ...        ...   \n",
      "2022-12-06  377.950012  103.860001  60.540001  285.410004  ...  2031000.0   \n",
      "2022-12-07  377.790009  104.809998  60.150002  286.690002  ...  1783900.0   \n",
      "2022-12-08  380.750000  106.919998  60.560001  292.149994  ...  2800300.0   \n",
      "2022-12-09  380.750000  107.510002  60.040001  288.410004  ...  2056100.0   \n",
      "2022-12-12  380.010010  109.489998  60.000000  292.339996  ...  1924800.0   \n",
      "\n",
      "                                                                               \\\n",
      "                  XEL         XOM       XRAY        XYL        YUM        ZBH   \n",
      "Date                                                                            \n",
      "1999-12-31        NaN         NaN        NaN        NaN        NaN        NaN   \n",
      "2000-01-03  2738600.0  13458200.0   582300.0        NaN  3033493.0        NaN   \n",
      "2000-01-04   425200.0  14510800.0   317700.0        NaN  3315031.0        NaN   \n",
      "2000-01-05   500200.0  17485000.0  1188000.0        NaN  4642602.0        NaN   \n",
      "2000-01-06   344100.0  19461600.0   534300.0        NaN  3947658.0        NaN   \n",
      "...               ...         ...        ...        ...        ...        ...   \n",
      "2022-12-06  2526600.0  21197000.0  1531200.0   670400.0  1544400.0  1922600.0   \n",
      "2022-12-07  2659400.0  20061700.0  1545400.0   460500.0  2085600.0  1810000.0   \n",
      "2022-12-08  2160600.0  21128800.0  1354400.0   518100.0  1500000.0  1814100.0   \n",
      "2022-12-09  3793100.0  21285200.0  1185600.0  1128500.0  1833800.0  1449200.0   \n",
      "2022-12-12  1967300.0  20413200.0  1416700.0   876500.0  1361700.0  1737000.0   \n",
      "\n",
      "                                             \n",
      "                 ZBRA       ZION        ZTS  \n",
      "Date                                         \n",
      "1999-12-31        NaN        NaN        NaN  \n",
      "2000-01-03  1055700.0  1199600.0        NaN  \n",
      "2000-01-04   522450.0   816100.0        NaN  \n",
      "2000-01-05   612225.0  1124700.0        NaN  \n",
      "2000-01-06   263925.0  1112100.0        NaN  \n",
      "...               ...        ...        ...  \n",
      "2022-12-06   375400.0  1962800.0  1964800.0  \n",
      "2022-12-07   303100.0  1994400.0  2444100.0  \n",
      "2022-12-08   473400.0  1166600.0  2267500.0  \n",
      "2022-12-09   551900.0   900700.0  3274900.0  \n",
      "2022-12-12   478500.0  1172300.0  1851800.0  \n",
      "\n",
      "[5776 rows x 3018 columns]\n"
     ]
    }
   ],
   "source": [
    "import bs4 as bs\n",
    "import requests\n",
    "import yfinance as yf\n",
    "import datetime\n",
    "\n",
    "resp = requests.get('http://en.wikipedia.org/wiki/List_of_S%26P_500_companies')\n",
    "soup = bs.BeautifulSoup(resp.text, 'lxml')\n",
    "table = soup.find('table', {'class': 'wikitable sortable'})\n",
    "tickers = []\n",
    "for row in table.findAll('tr')[1:]:\n",
    "    ticker = row.findAll('td')[0].text\n",
    "    tickers.append(ticker)\n",
    "\n",
    "tickers = [s.replace('\\n', '') for s in tickers]\n",
    "start = datetime.datetime(2000,1,1)\n",
    "end = datetime.datetime(2022,12,13)\n",
    "data = yf.download(tickers, start=start, end=end)\n",
    "print(data)"
   ]
  },
  {
   "cell_type": "code",
   "execution_count": 2,
   "id": "474a5e25-9293-40cb-b2ce-aa2e4a7c1bae",
   "metadata": {},
   "outputs": [],
   "source": [
    "import pandas\n",
    "data.to_csv(\"prices s&p.csv\", sep=';')"
   ]
  },
  {
   "cell_type": "code",
   "execution_count": 6,
   "id": "2999f05c-31a5-423c-978b-4547fd31ea01",
   "metadata": {},
   "outputs": [],
   "source": [
    "close_prices = data['Adj Close']\n",
    "close_prices.to_csv(\"close prices s&p 2000-2022.csv\", sep=';')"
   ]
  }
 ],
 "metadata": {
  "kernelspec": {
   "display_name": "Python 3 (ipykernel)",
   "language": "python",
   "name": "python3"
  },
  "language_info": {
   "codemirror_mode": {
    "name": "ipython",
    "version": 3
   },
   "file_extension": ".py",
   "mimetype": "text/x-python",
   "name": "python",
   "nbconvert_exporter": "python",
   "pygments_lexer": "ipython3",
   "version": "3.8.7"
  }
 },
 "nbformat": 4,
 "nbformat_minor": 5
}
